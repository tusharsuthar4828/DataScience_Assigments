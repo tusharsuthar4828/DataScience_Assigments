{
  "nbformat": 4,
  "nbformat_minor": 0,
  "metadata": {
    "colab": {
      "name": "Neural_Networks_gas_turbines.ipynb",
      "provenance": [],
      "authorship_tag": "ABX9TyMUIyW/9+HKQrwsRT0bxYNN",
      "include_colab_link": true
    },
    "kernelspec": {
      "name": "python3",
      "display_name": "Python 3"
    },
    "language_info": {
      "name": "python"
    }
  },
  "cells": [
    {
      "cell_type": "markdown",
      "metadata": {
        "id": "view-in-github",
        "colab_type": "text"
      },
      "source": [
        "<a href=\"https://colab.research.google.com/github/tusharsuthar4828/DataScience_Assigments/blob/main/Neural_Networks_gas_turbines.ipynb\" target=\"_parent\"><img src=\"https://colab.research.google.com/assets/colab-badge.svg\" alt=\"Open In Colab\"/></a>"
      ]
    },
    {
      "cell_type": "code",
      "execution_count": 23,
      "metadata": {
        "id": "rV0vodsuPL1Y"
      },
      "outputs": [],
      "source": [
        "from keras.layers import Dense\n",
        "import tensorflow as tf\n",
        "import pandas as pd\n",
        "import numpy as np\n",
        "import keras\n",
        "from sklearn.preprocessing import StandardScaler\n",
        "from sklearn.model_selection import GridSearchCV, KFold\n",
        "from keras.models import Sequential\n",
        "from keras.layers import Dense\n",
        "from keras.wrappers.scikit_learn import KerasClassifier\n",
        "from keras.layers import Dropout\n",
        "from sklearn.metrics import classification_report, accuracy_score\n",
        "from sklearn.model_selection import train_test_split\n",
        "from sklearn.model_selection import train_test_split, cross_val_score"
      ]
    },
    {
      "cell_type": "code",
      "source": [
        "# Loading Dataset\n",
        "data = pd.read_csv('/content/gas_turbines.csv')\n",
        "data.head()"
      ],
      "metadata": {
        "colab": {
          "base_uri": "https://localhost:8080/",
          "height": 206
        },
        "id": "p3m815_CPU11",
        "outputId": "1114c39a-628c-4507-8880-9cb222860193"
      },
      "execution_count": 3,
      "outputs": [
        {
          "output_type": "execute_result",
          "data": {
            "text/html": [
              "\n",
              "  <div id=\"df-eea895ef-299f-463b-afa6-77c2a02f8b1a\">\n",
              "    <div class=\"colab-df-container\">\n",
              "      <div>\n",
              "<style scoped>\n",
              "    .dataframe tbody tr th:only-of-type {\n",
              "        vertical-align: middle;\n",
              "    }\n",
              "\n",
              "    .dataframe tbody tr th {\n",
              "        vertical-align: top;\n",
              "    }\n",
              "\n",
              "    .dataframe thead th {\n",
              "        text-align: right;\n",
              "    }\n",
              "</style>\n",
              "<table border=\"1\" class=\"dataframe\">\n",
              "  <thead>\n",
              "    <tr style=\"text-align: right;\">\n",
              "      <th></th>\n",
              "      <th>AT</th>\n",
              "      <th>AP</th>\n",
              "      <th>AH</th>\n",
              "      <th>AFDP</th>\n",
              "      <th>GTEP</th>\n",
              "      <th>TIT</th>\n",
              "      <th>TAT</th>\n",
              "      <th>TEY</th>\n",
              "      <th>CDP</th>\n",
              "      <th>CO</th>\n",
              "      <th>NOX</th>\n",
              "    </tr>\n",
              "  </thead>\n",
              "  <tbody>\n",
              "    <tr>\n",
              "      <th>0</th>\n",
              "      <td>6.8594</td>\n",
              "      <td>1007.9</td>\n",
              "      <td>96.799</td>\n",
              "      <td>3.5000</td>\n",
              "      <td>19.663</td>\n",
              "      <td>1059.2</td>\n",
              "      <td>550.00</td>\n",
              "      <td>114.70</td>\n",
              "      <td>10.605</td>\n",
              "      <td>3.1547</td>\n",
              "      <td>82.722</td>\n",
              "    </tr>\n",
              "    <tr>\n",
              "      <th>1</th>\n",
              "      <td>6.7850</td>\n",
              "      <td>1008.4</td>\n",
              "      <td>97.118</td>\n",
              "      <td>3.4998</td>\n",
              "      <td>19.728</td>\n",
              "      <td>1059.3</td>\n",
              "      <td>550.00</td>\n",
              "      <td>114.72</td>\n",
              "      <td>10.598</td>\n",
              "      <td>3.2363</td>\n",
              "      <td>82.776</td>\n",
              "    </tr>\n",
              "    <tr>\n",
              "      <th>2</th>\n",
              "      <td>6.8977</td>\n",
              "      <td>1008.8</td>\n",
              "      <td>95.939</td>\n",
              "      <td>3.4824</td>\n",
              "      <td>19.779</td>\n",
              "      <td>1059.4</td>\n",
              "      <td>549.87</td>\n",
              "      <td>114.71</td>\n",
              "      <td>10.601</td>\n",
              "      <td>3.2012</td>\n",
              "      <td>82.468</td>\n",
              "    </tr>\n",
              "    <tr>\n",
              "      <th>3</th>\n",
              "      <td>7.0569</td>\n",
              "      <td>1009.2</td>\n",
              "      <td>95.249</td>\n",
              "      <td>3.4805</td>\n",
              "      <td>19.792</td>\n",
              "      <td>1059.6</td>\n",
              "      <td>549.99</td>\n",
              "      <td>114.72</td>\n",
              "      <td>10.606</td>\n",
              "      <td>3.1923</td>\n",
              "      <td>82.670</td>\n",
              "    </tr>\n",
              "    <tr>\n",
              "      <th>4</th>\n",
              "      <td>7.3978</td>\n",
              "      <td>1009.7</td>\n",
              "      <td>95.150</td>\n",
              "      <td>3.4976</td>\n",
              "      <td>19.765</td>\n",
              "      <td>1059.7</td>\n",
              "      <td>549.98</td>\n",
              "      <td>114.72</td>\n",
              "      <td>10.612</td>\n",
              "      <td>3.2484</td>\n",
              "      <td>82.311</td>\n",
              "    </tr>\n",
              "  </tbody>\n",
              "</table>\n",
              "</div>\n",
              "      <button class=\"colab-df-convert\" onclick=\"convertToInteractive('df-eea895ef-299f-463b-afa6-77c2a02f8b1a')\"\n",
              "              title=\"Convert this dataframe to an interactive table.\"\n",
              "              style=\"display:none;\">\n",
              "        \n",
              "  <svg xmlns=\"http://www.w3.org/2000/svg\" height=\"24px\"viewBox=\"0 0 24 24\"\n",
              "       width=\"24px\">\n",
              "    <path d=\"M0 0h24v24H0V0z\" fill=\"none\"/>\n",
              "    <path d=\"M18.56 5.44l.94 2.06.94-2.06 2.06-.94-2.06-.94-.94-2.06-.94 2.06-2.06.94zm-11 1L8.5 8.5l.94-2.06 2.06-.94-2.06-.94L8.5 2.5l-.94 2.06-2.06.94zm10 10l.94 2.06.94-2.06 2.06-.94-2.06-.94-.94-2.06-.94 2.06-2.06.94z\"/><path d=\"M17.41 7.96l-1.37-1.37c-.4-.4-.92-.59-1.43-.59-.52 0-1.04.2-1.43.59L10.3 9.45l-7.72 7.72c-.78.78-.78 2.05 0 2.83L4 21.41c.39.39.9.59 1.41.59.51 0 1.02-.2 1.41-.59l7.78-7.78 2.81-2.81c.8-.78.8-2.07 0-2.86zM5.41 20L4 18.59l7.72-7.72 1.47 1.35L5.41 20z\"/>\n",
              "  </svg>\n",
              "      </button>\n",
              "      \n",
              "  <style>\n",
              "    .colab-df-container {\n",
              "      display:flex;\n",
              "      flex-wrap:wrap;\n",
              "      gap: 12px;\n",
              "    }\n",
              "\n",
              "    .colab-df-convert {\n",
              "      background-color: #E8F0FE;\n",
              "      border: none;\n",
              "      border-radius: 50%;\n",
              "      cursor: pointer;\n",
              "      display: none;\n",
              "      fill: #1967D2;\n",
              "      height: 32px;\n",
              "      padding: 0 0 0 0;\n",
              "      width: 32px;\n",
              "    }\n",
              "\n",
              "    .colab-df-convert:hover {\n",
              "      background-color: #E2EBFA;\n",
              "      box-shadow: 0px 1px 2px rgba(60, 64, 67, 0.3), 0px 1px 3px 1px rgba(60, 64, 67, 0.15);\n",
              "      fill: #174EA6;\n",
              "    }\n",
              "\n",
              "    [theme=dark] .colab-df-convert {\n",
              "      background-color: #3B4455;\n",
              "      fill: #D2E3FC;\n",
              "    }\n",
              "\n",
              "    [theme=dark] .colab-df-convert:hover {\n",
              "      background-color: #434B5C;\n",
              "      box-shadow: 0px 1px 3px 1px rgba(0, 0, 0, 0.15);\n",
              "      filter: drop-shadow(0px 1px 2px rgba(0, 0, 0, 0.3));\n",
              "      fill: #FFFFFF;\n",
              "    }\n",
              "  </style>\n",
              "\n",
              "      <script>\n",
              "        const buttonEl =\n",
              "          document.querySelector('#df-eea895ef-299f-463b-afa6-77c2a02f8b1a button.colab-df-convert');\n",
              "        buttonEl.style.display =\n",
              "          google.colab.kernel.accessAllowed ? 'block' : 'none';\n",
              "\n",
              "        async function convertToInteractive(key) {\n",
              "          const element = document.querySelector('#df-eea895ef-299f-463b-afa6-77c2a02f8b1a');\n",
              "          const dataTable =\n",
              "            await google.colab.kernel.invokeFunction('convertToInteractive',\n",
              "                                                     [key], {});\n",
              "          if (!dataTable) return;\n",
              "\n",
              "          const docLinkHtml = 'Like what you see? Visit the ' +\n",
              "            '<a target=\"_blank\" href=https://colab.research.google.com/notebooks/data_table.ipynb>data table notebook</a>'\n",
              "            + ' to learn more about interactive tables.';\n",
              "          element.innerHTML = '';\n",
              "          dataTable['output_type'] = 'display_data';\n",
              "          await google.colab.output.renderOutput(dataTable, element);\n",
              "          const docLink = document.createElement('div');\n",
              "          docLink.innerHTML = docLinkHtml;\n",
              "          element.appendChild(docLink);\n",
              "        }\n",
              "      </script>\n",
              "    </div>\n",
              "  </div>\n",
              "  "
            ],
            "text/plain": [
              "       AT      AP      AH    AFDP  ...     TEY     CDP      CO     NOX\n",
              "0  6.8594  1007.9  96.799  3.5000  ...  114.70  10.605  3.1547  82.722\n",
              "1  6.7850  1008.4  97.118  3.4998  ...  114.72  10.598  3.2363  82.776\n",
              "2  6.8977  1008.8  95.939  3.4824  ...  114.71  10.601  3.2012  82.468\n",
              "3  7.0569  1009.2  95.249  3.4805  ...  114.72  10.606  3.1923  82.670\n",
              "4  7.3978  1009.7  95.150  3.4976  ...  114.72  10.612  3.2484  82.311\n",
              "\n",
              "[5 rows x 11 columns]"
            ]
          },
          "metadata": {},
          "execution_count": 3
        }
      ]
    },
    {
      "cell_type": "code",
      "source": [
        "data[\"TEy\"]=1\n",
        "data.loc[data[\"TEY\"]> 135,\"TEy\"]=2\n",
        "data.drop([\"TEY\"],axis=1,inplace=True)"
      ],
      "metadata": {
        "id": "muk9BQMtPaPL"
      },
      "execution_count": 7,
      "outputs": []
    },
    {
      "cell_type": "code",
      "source": [
        "x = np.array(data.iloc[:,0:10])\n",
        "y = np.array(data.iloc[:,10])"
      ],
      "metadata": {
        "id": "-Y3eePE_PkHQ"
      },
      "execution_count": 8,
      "outputs": []
    },
    {
      "cell_type": "code",
      "source": [
        "y"
      ],
      "metadata": {
        "colab": {
          "base_uri": "https://localhost:8080/"
        },
        "id": "eGOyoM1cSJ2N",
        "outputId": "f561a881-6558-479a-9efc-2f41cbf79f40"
      },
      "execution_count": 9,
      "outputs": [
        {
          "output_type": "execute_result",
          "data": {
            "text/plain": [
              "array([1, 1, 1, ..., 1, 1, 1])"
            ]
          },
          "metadata": {},
          "execution_count": 9
        }
      ]
    },
    {
      "cell_type": "code",
      "source": [
        "#Normalizing data"
      ],
      "metadata": {
        "id": "UV6obixjXL8T"
      },
      "execution_count": 10,
      "outputs": []
    },
    {
      "cell_type": "code",
      "source": [
        "def norm_func(i):\n",
        "    x = (i-i.min())/(i.max()-i.min())\n",
        "    return (x)"
      ],
      "metadata": {
        "id": "6onFxnH7XPNL"
      },
      "execution_count": 11,
      "outputs": []
    },
    {
      "cell_type": "code",
      "source": [
        "x_norm = norm_func(x)"
      ],
      "metadata": {
        "id": "TOS8pQvrXRT-"
      },
      "execution_count": 12,
      "outputs": []
    },
    {
      "cell_type": "code",
      "source": [
        "#data spliting"
      ],
      "metadata": {
        "id": "aQfFXiSIXS-4"
      },
      "execution_count": 13,
      "outputs": []
    },
    {
      "cell_type": "code",
      "source": [
        "x_train,x_test,y_train,y_test= train_test_split(x_norm,y, test_size=0.2,stratify = y)"
      ],
      "metadata": {
        "id": "ZiYWMGDlXVSx"
      },
      "execution_count": 14,
      "outputs": []
    },
    {
      "cell_type": "code",
      "source": [
        "#Applying NN"
      ],
      "metadata": {
        "id": "88NPKqsAXXIy"
      },
      "execution_count": 15,
      "outputs": []
    },
    {
      "cell_type": "code",
      "source": [
        "model = Sequential()\n",
        "model.add(Dense(8, input_dim=10, activation='relu'))\n",
        "model.add(Dense(4,  activation='linear'))\n",
        "model.add(Dense(1,  activation='sigmoid'))"
      ],
      "metadata": {
        "id": "e50vX1OlXZFw"
      },
      "execution_count": 16,
      "outputs": []
    },
    {
      "cell_type": "code",
      "source": [
        "model.compile(loss='binary_crossentropy', optimizer='adam', metrics=['accuracy'])\n"
      ],
      "metadata": {
        "id": "Pjoqs4VtXaxI"
      },
      "execution_count": 17,
      "outputs": []
    },
    {
      "cell_type": "code",
      "source": [
        "history=model.fit(x_train, y_train, validation_split=0.3, epochs=50, batch_size=10)\n"
      ],
      "metadata": {
        "colab": {
          "base_uri": "https://localhost:8080/"
        },
        "id": "8TS5FBPoXcEe",
        "outputId": "ffd3b643-d583-4da1-a0b7-e10d2b0ff1ec"
      },
      "execution_count": 18,
      "outputs": [
        {
          "output_type": "stream",
          "name": "stdout",
          "text": [
            "Epoch 1/50\n",
            "843/843 [==============================] - 4s 3ms/step - loss: -26.9358 - accuracy: 0.7007 - val_loss: -95.2919 - val_accuracy: 0.7089\n",
            "Epoch 2/50\n",
            "843/843 [==============================] - 3s 4ms/step - loss: -317.3862 - accuracy: 0.7007 - val_loss: -621.7587 - val_accuracy: 0.7089\n",
            "Epoch 3/50\n",
            "843/843 [==============================] - 2s 3ms/step - loss: -1184.1476 - accuracy: 0.7007 - val_loss: -1807.8242 - val_accuracy: 0.7089\n",
            "Epoch 4/50\n",
            "843/843 [==============================] - 2s 2ms/step - loss: -2776.4246 - accuracy: 0.7007 - val_loss: -3730.5369 - val_accuracy: 0.7089\n",
            "Epoch 5/50\n",
            "843/843 [==============================] - 3s 3ms/step - loss: -5163.8115 - accuracy: 0.7007 - val_loss: -6464.7397 - val_accuracy: 0.7089\n",
            "Epoch 6/50\n",
            "843/843 [==============================] - 2s 2ms/step - loss: -8410.9570 - accuracy: 0.7007 - val_loss: -10077.0723 - val_accuracy: 0.7089\n",
            "Epoch 7/50\n",
            "843/843 [==============================] - 3s 3ms/step - loss: -12616.5000 - accuracy: 0.7007 - val_loss: -14661.8740 - val_accuracy: 0.7089\n",
            "Epoch 8/50\n",
            "843/843 [==============================] - 2s 2ms/step - loss: -17826.9531 - accuracy: 0.7007 - val_loss: -20224.1680 - val_accuracy: 0.7089\n",
            "Epoch 9/50\n",
            "843/843 [==============================] - 3s 3ms/step - loss: -24073.0957 - accuracy: 0.7007 - val_loss: -26817.1895 - val_accuracy: 0.7089\n",
            "Epoch 10/50\n",
            "843/843 [==============================] - 3s 3ms/step - loss: -31476.8828 - accuracy: 0.7007 - val_loss: -34640.3984 - val_accuracy: 0.7089\n",
            "Epoch 11/50\n",
            "843/843 [==============================] - 3s 4ms/step - loss: -40122.9297 - accuracy: 0.7007 - val_loss: -43682.8008 - val_accuracy: 0.7089\n",
            "Epoch 12/50\n",
            "843/843 [==============================] - 3s 3ms/step - loss: -50127.0234 - accuracy: 0.7007 - val_loss: -54087.3398 - val_accuracy: 0.7089\n",
            "Epoch 13/50\n",
            "843/843 [==============================] - 3s 4ms/step - loss: -61538.1797 - accuracy: 0.7007 - val_loss: -65912.8281 - val_accuracy: 0.7089\n",
            "Epoch 14/50\n",
            "843/843 [==============================] - 3s 4ms/step - loss: -74396.2969 - accuracy: 0.7007 - val_loss: -79114.5156 - val_accuracy: 0.7089\n",
            "Epoch 15/50\n",
            "843/843 [==============================] - 3s 3ms/step - loss: -88746.5703 - accuracy: 0.7007 - val_loss: -93867.9062 - val_accuracy: 0.7089\n",
            "Epoch 16/50\n",
            "843/843 [==============================] - 2s 2ms/step - loss: -104759.6953 - accuracy: 0.7007 - val_loss: -110234.5156 - val_accuracy: 0.7089\n",
            "Epoch 17/50\n",
            "843/843 [==============================] - 2s 2ms/step - loss: -122383.2969 - accuracy: 0.7007 - val_loss: -128312.3672 - val_accuracy: 0.7089\n",
            "Epoch 18/50\n",
            "843/843 [==============================] - 2s 2ms/step - loss: -141859.1250 - accuracy: 0.7007 - val_loss: -148061.7969 - val_accuracy: 0.7089\n",
            "Epoch 19/50\n",
            "843/843 [==============================] - 2s 2ms/step - loss: -163083.1719 - accuracy: 0.7007 - val_loss: -169657.7812 - val_accuracy: 0.7089\n",
            "Epoch 20/50\n",
            "843/843 [==============================] - 2s 2ms/step - loss: -186353.1094 - accuracy: 0.7007 - val_loss: -193236.0469 - val_accuracy: 0.7089\n",
            "Epoch 21/50\n",
            "843/843 [==============================] - 2s 2ms/step - loss: -211538.0625 - accuracy: 0.7007 - val_loss: -218754.6719 - val_accuracy: 0.7089\n",
            "Epoch 22/50\n",
            "843/843 [==============================] - 2s 2ms/step - loss: -238692.3281 - accuracy: 0.7007 - val_loss: -246088.9375 - val_accuracy: 0.7089\n",
            "Epoch 23/50\n",
            "843/843 [==============================] - 2s 2ms/step - loss: -267983.2500 - accuracy: 0.7007 - val_loss: -275653.8438 - val_accuracy: 0.7089\n",
            "Epoch 24/50\n",
            "843/843 [==============================] - 2s 2ms/step - loss: -299480.1250 - accuracy: 0.7007 - val_loss: -307451.7500 - val_accuracy: 0.7089\n",
            "Epoch 25/50\n",
            "843/843 [==============================] - 2s 2ms/step - loss: -333132.5625 - accuracy: 0.7007 - val_loss: -341227.4375 - val_accuracy: 0.7089\n",
            "Epoch 26/50\n",
            "843/843 [==============================] - 2s 2ms/step - loss: -369193.7188 - accuracy: 0.7007 - val_loss: -377693.8750 - val_accuracy: 0.7089\n",
            "Epoch 27/50\n",
            "843/843 [==============================] - 2s 2ms/step - loss: -407841.5000 - accuracy: 0.7007 - val_loss: -416284.9688 - val_accuracy: 0.7089\n",
            "Epoch 28/50\n",
            "843/843 [==============================] - 2s 2ms/step - loss: -448918.7500 - accuracy: 0.7007 - val_loss: -457530.5312 - val_accuracy: 0.7089\n",
            "Epoch 29/50\n",
            "843/843 [==============================] - 2s 2ms/step - loss: -492448.8438 - accuracy: 0.7007 - val_loss: -501230.1875 - val_accuracy: 0.7089\n",
            "Epoch 30/50\n",
            "843/843 [==============================] - 2s 2ms/step - loss: -538502.3125 - accuracy: 0.7007 - val_loss: -547233.5625 - val_accuracy: 0.7089\n",
            "Epoch 31/50\n",
            "843/843 [==============================] - 2s 2ms/step - loss: -587113.3125 - accuracy: 0.7007 - val_loss: -595854.0625 - val_accuracy: 0.7089\n",
            "Epoch 32/50\n",
            "843/843 [==============================] - 2s 2ms/step - loss: -638778.2500 - accuracy: 0.7007 - val_loss: -647623.6875 - val_accuracy: 0.7089\n",
            "Epoch 33/50\n",
            "843/843 [==============================] - 2s 2ms/step - loss: -693422.8125 - accuracy: 0.7007 - val_loss: -702219.5000 - val_accuracy: 0.7089\n",
            "Epoch 34/50\n",
            "843/843 [==============================] - 2s 2ms/step - loss: -751350.3125 - accuracy: 0.7007 - val_loss: -760104.8750 - val_accuracy: 0.7089\n",
            "Epoch 35/50\n",
            "843/843 [==============================] - 2s 2ms/step - loss: -811777.3750 - accuracy: 0.7007 - val_loss: -820108.4375 - val_accuracy: 0.7089\n",
            "Epoch 36/50\n",
            "843/843 [==============================] - 2s 2ms/step - loss: -875398.5625 - accuracy: 0.7007 - val_loss: -883874.4375 - val_accuracy: 0.7089\n",
            "Epoch 37/50\n",
            "843/843 [==============================] - 2s 2ms/step - loss: -942530.8125 - accuracy: 0.7007 - val_loss: -950392.6250 - val_accuracy: 0.7089\n",
            "Epoch 38/50\n",
            "843/843 [==============================] - 2s 2ms/step - loss: -1012270.1875 - accuracy: 0.7007 - val_loss: -1019926.3125 - val_accuracy: 0.7089\n",
            "Epoch 39/50\n",
            "843/843 [==============================] - 2s 2ms/step - loss: -1085274.2500 - accuracy: 0.7007 - val_loss: -1092343.0000 - val_accuracy: 0.7089\n",
            "Epoch 40/50\n",
            "843/843 [==============================] - 2s 2ms/step - loss: -1161427.1250 - accuracy: 0.7007 - val_loss: -1168496.8750 - val_accuracy: 0.7089\n",
            "Epoch 41/50\n",
            "843/843 [==============================] - 2s 2ms/step - loss: -1241398.0000 - accuracy: 0.7007 - val_loss: -1247826.2500 - val_accuracy: 0.7089\n",
            "Epoch 42/50\n",
            "843/843 [==============================] - 2s 2ms/step - loss: -1324767.8750 - accuracy: 0.7007 - val_loss: -1330710.0000 - val_accuracy: 0.7089\n",
            "Epoch 43/50\n",
            "843/843 [==============================] - 2s 2ms/step - loss: -1411651.7500 - accuracy: 0.7007 - val_loss: -1416872.1250 - val_accuracy: 0.7089\n",
            "Epoch 44/50\n",
            "843/843 [==============================] - 2s 2ms/step - loss: -1502112.2500 - accuracy: 0.7007 - val_loss: -1506703.8750 - val_accuracy: 0.7089\n",
            "Epoch 45/50\n",
            "843/843 [==============================] - 2s 2ms/step - loss: -1596540.7500 - accuracy: 0.7007 - val_loss: -1600544.2500 - val_accuracy: 0.7089\n",
            "Epoch 46/50\n",
            "843/843 [==============================] - 2s 2ms/step - loss: -1694864.0000 - accuracy: 0.7007 - val_loss: -1698291.7500 - val_accuracy: 0.7089\n",
            "Epoch 47/50\n",
            "843/843 [==============================] - 2s 2ms/step - loss: -1797157.1250 - accuracy: 0.7007 - val_loss: -1799251.6250 - val_accuracy: 0.7089\n",
            "Epoch 48/50\n",
            "843/843 [==============================] - 2s 2ms/step - loss: -1903106.3750 - accuracy: 0.7007 - val_loss: -1904296.1250 - val_accuracy: 0.7089\n",
            "Epoch 49/50\n",
            "843/843 [==============================] - 2s 2ms/step - loss: -2012493.6250 - accuracy: 0.7007 - val_loss: -2012319.5000 - val_accuracy: 0.7089\n",
            "Epoch 50/50\n",
            "843/843 [==============================] - 2s 2ms/step - loss: -2125631.2500 - accuracy: 0.7007 - val_loss: -2124915.5000 - val_accuracy: 0.7089\n"
          ]
        }
      ]
    },
    {
      "cell_type": "code",
      "source": [
        "#Accuracy for TRain data"
      ],
      "metadata": {
        "id": "9Awb5KuSXdRQ"
      },
      "execution_count": 19,
      "outputs": []
    },
    {
      "cell_type": "code",
      "source": [
        "scores = model.evaluate(x_train, y_train)\n",
        "print(\"%s: %.2f%%\" % (model.metrics_names[1], scores[1]*100))"
      ],
      "metadata": {
        "colab": {
          "base_uri": "https://localhost:8080/"
        },
        "id": "SVqBmA_bXgBr",
        "outputId": "249f28d7-d15f-4ec1-e58d-f0edd434ff2e"
      },
      "execution_count": 20,
      "outputs": [
        {
          "output_type": "stream",
          "name": "stdout",
          "text": [
            "376/376 [==============================] - 1s 2ms/step - loss: -2166373.0000 - accuracy: 0.7032\n",
            "accuracy: 70.32%\n"
          ]
        }
      ]
    },
    {
      "cell_type": "code",
      "source": [
        "#Accuracy for test data"
      ],
      "metadata": {
        "id": "ylT3ILTOXixm"
      },
      "execution_count": 21,
      "outputs": []
    },
    {
      "cell_type": "code",
      "source": [
        "scores = model.evaluate(x_test, y_test)\n",
        "print(\"%s: %.2f%%\" % (model.metrics_names[1], scores[1]*100))"
      ],
      "metadata": {
        "colab": {
          "base_uri": "https://localhost:8080/"
        },
        "id": "os98mWbFXlEC",
        "outputId": "034b45e0-894e-43bc-c347-261fb29d00bb"
      },
      "execution_count": 22,
      "outputs": [
        {
          "output_type": "stream",
          "name": "stdout",
          "text": [
            "94/94 [==============================] - 0s 2ms/step - loss: -2166443.0000 - accuracy: 0.7031\n",
            "accuracy: 70.31%\n"
          ]
        }
      ]
    },
    {
      "cell_type": "code",
      "source": [
        ""
      ],
      "metadata": {
        "id": "L5rpn_-mX4xr"
      },
      "execution_count": null,
      "outputs": []
    }
  ]
}